{
 "cells": [
  {
   "cell_type": "markdown",
   "metadata": {},
   "source": [
    "Lists\n",
    "---\n",
    "\n",
    "- What is a list?\n",
    "- How do you make one?\n",
    "- How do you get information out?\n",
    "- How do you add to it?"
   ]
  },
  {
   "cell_type": "markdown",
   "metadata": {},
   "source": [
    "What is a list?\n",
    "---\n",
    "\n",
    "- A list lets you hold as much information as you want.\n",
    "- It stores things in order.\n",
    "- You can add to lists, remove items, copy them..."
   ]
  },
  {
   "cell_type": "code",
   "execution_count": 7,
   "metadata": {},
   "outputs": [
    {
     "name": "stdout",
     "output_type": "stream",
     "text": [
      "['abraham', 'philip', 'martin luther king']\n",
      "['abraham', 'philip', 'martin luther king', 'batman', 'the flash', 'lego batman', 'wonder woman', 'mandy']\n",
      "abraham\n",
      "philip\n",
      "the flash\n",
      "mandy\n",
      "wonder woman\n"
     ]
    }
   ],
   "source": [
    "# Example\n",
    "superheroes = ['abraham', 'philip', 'martin luther king']\n",
    "print(superheroes)\n",
    "\n",
    "# Add to a list.\n",
    "superheroes.append('batman')\n",
    "superheroes.append('the flash')\n",
    "superheroes.append('lego batman')\n",
    "superheroes.append('wonder woman')\n",
    "superheroes.append('mandy')\n",
    "\n",
    "print(superheroes)\n",
    "\n",
    "# Getting information out.\n",
    "print(superheroes[0])\n",
    "print(superheroes[1])\n",
    "print(superheroes[4])\n",
    "print(superheroes[-1])\n",
    "print(superheroes[-2])"
   ]
  },
  {
   "cell_type": "code",
   "execution_count": null,
   "metadata": {
    "collapsed": true
   },
   "outputs": [],
   "source": [
    "snapchat_users[0]\n",
    "snapchat_users[-1]\n",
    "snapchat_users[1000000000]"
   ]
  },
  {
   "cell_type": "code",
   "execution_count": 8,
   "metadata": {},
   "outputs": [
    {
     "name": "stdout",
     "output_type": "stream",
     "text": [
      "['everest', 'kilimanjaro']\n"
     ]
    }
   ],
   "source": [
    "# Starting with an empty list.\n",
    "mountains = []\n",
    "mountains.append('everest')\n",
    "mountains.append('kilimanjaro')\n",
    "print(mountains)"
   ]
  },
  {
   "cell_type": "markdown",
   "metadata": {},
   "source": [
    "More about lists\n",
    "---\n",
    "\n",
    "- What is an `IndexError`?\n",
    "- How do you modify an element in a list?\n",
    "- How do you remove elements from a list?\n",
    "- How do you find out how many items are in a list?\n",
    "- How do you slice a list?"
   ]
  },
  {
   "cell_type": "code",
   "execution_count": 13,
   "metadata": {},
   "outputs": [
    {
     "ename": "IndexError",
     "evalue": "list index out of range",
     "output_type": "error",
     "traceback": [
      "\u001b[1;31m---------------------------------------------------------------------------\u001b[0m",
      "\u001b[1;31mIndexError\u001b[0m                                Traceback (most recent call last)",
      "\u001b[1;32m<ipython-input-13-2841718967e6>\u001b[0m in \u001b[0;36m<module>\u001b[1;34m()\u001b[0m\n\u001b[0;32m      1\u001b[0m \u001b[0mcolors\u001b[0m \u001b[1;33m=\u001b[0m \u001b[1;33m[\u001b[0m\u001b[1;34m'black'\u001b[0m\u001b[1;33m,\u001b[0m \u001b[1;34m'magenta'\u001b[0m\u001b[1;33m,\u001b[0m \u001b[1;34m'blue'\u001b[0m\u001b[1;33m,\u001b[0m \u001b[1;34m'gold'\u001b[0m\u001b[1;33m,\u001b[0m \u001b[1;34m'silver'\u001b[0m\u001b[1;33m]\u001b[0m\u001b[1;33m\u001b[0m\u001b[0m\n\u001b[1;32m----> 2\u001b[1;33m \u001b[0mcolors\u001b[0m\u001b[1;33m[\u001b[0m\u001b[1;36m6\u001b[0m\u001b[1;33m]\u001b[0m\u001b[1;33m\u001b[0m\u001b[0m\n\u001b[0m\u001b[0;32m      3\u001b[0m \u001b[1;33m\u001b[0m\u001b[0m\n",
      "\u001b[1;31mIndexError\u001b[0m: list index out of range"
     ]
    }
   ],
   "source": [
    "# What's an IndexError?\n",
    "colors = ['black', 'magenta', 'blue', 'gold', 'silver']\n",
    "colors[6]\n",
    "       "
   ]
  },
  {
   "cell_type": "code",
   "execution_count": 14,
   "metadata": {},
   "outputs": [
    {
     "name": "stdout",
     "output_type": "stream",
     "text": [
      "['black', 'magenta', 'blue', 'gold', 'silver']\n",
      "['red', 'magenta', 'blue', 'gold', 'silver']\n"
     ]
    }
   ],
   "source": [
    "# How do you change the value of an item?\n",
    "colors = ['black', 'magenta', 'blue', 'gold', 'silver']\n",
    "print(colors)\n",
    "colors[0] = 'red'\n",
    "print(colors)"
   ]
  },
  {
   "cell_type": "markdown",
   "metadata": {},
   "source": []
  },
  {
   "cell_type": "code",
   "execution_count": 21,
   "metadata": {},
   "outputs": [
    {
     "name": "stdout",
     "output_type": "stream",
     "text": [
      "['black', 'magenta', 'blue', 'gold', 'silver']\n",
      "['black', 'magenta', 'blue', 'gold']\n",
      "['black', 'magenta', 'gold']\n",
      "gold\n",
      "['black', 'magenta']\n",
      "black\n",
      "['magenta']\n"
     ]
    }
   ],
   "source": [
    "# How do you remove items?\n",
    "colors = ['black', 'magenta', 'blue', 'gold', 'silver']\n",
    "print(colors)\n",
    "\n",
    "del colors[-1]\n",
    "print(colors)\n",
    "\n",
    "colors.remove('blue')\n",
    "print(colors)\n",
    "\n",
    "last_color = colors.pop()\n",
    "print(last_color)\n",
    "print(colors)\n",
    "\n",
    "first_color = colors.pop(0)\n",
    "print(first_color)\n",
    "print(colors)"
   ]
  },
  {
   "cell_type": "code",
   "execution_count": 22,
   "metadata": {},
   "outputs": [
    {
     "data": {
      "text/plain": [
       "5"
      ]
     },
     "execution_count": 22,
     "metadata": {},
     "output_type": "execute_result"
    }
   ],
   "source": [
    "# How do you find the length of a list?\n",
    "colors = ['black', 'magenta', 'blue', 'gold', 'silver']\n",
    "len(colors)"
   ]
  },
  {
   "cell_type": "markdown",
   "metadata": {},
   "source": [
    "print('hello')"
   ]
  },
  {
   "cell_type": "code",
   "execution_count": 26,
   "metadata": {},
   "outputs": [
    {
     "name": "stdout",
     "output_type": "stream",
     "text": [
      "['black', 'magenta']\n",
      "['black', 'magenta']\n",
      "['blue', 'gold', 'silver']\n"
     ]
    }
   ],
   "source": [
    "# How do you slice a list?\n",
    "colors = ['black', 'magenta', 'blue', 'gold', 'silver']\n",
    "\n",
    "# simplest\n",
    "print(colors[0:2])\n",
    "\n",
    "# from the beginning\n",
    "print(colors[:2])\n",
    "\n",
    "# from somewhere to the end\n",
    "print(colors[2:])"
   ]
  },
  {
   "cell_type": "code",
   "execution_count": 5,
   "metadata": {},
   "outputs": [
    {
     "name": "stdout",
     "output_type": "stream",
     "text": [
      "['black', 'magenta', 'blue', 'gold', 'silver']\n",
      "['black', 'magenta', 'white', 'gold', 'silver']\n"
     ]
    }
   ],
   "source": [
    "# Modifying a value in a list.\n",
    "colors = ['black', 'magenta', 'blue', 'gold', 'silver']\n",
    "print(colors)\n",
    "\n",
    "colors[2] = 'white'\n",
    "print(colors)"
   ]
  },
  {
   "cell_type": "markdown",
   "metadata": {},
   "source": [
    "Looping through Lists\n",
    "---\n",
    "\n",
    "- Why are loops so important in programming?\n",
    "- How do you write a simple loop?\n",
    "  - What does indentation mean in Python?\n",
    "- What can you do in a loop?\n",
    "- What happens to code outside of a loop?\n",
    "- How do you use a loop to build a new list?"
   ]
  },
  {
   "cell_type": "markdown",
   "metadata": {},
   "source": [
    "Why are loops so important?\n",
    "- You can have infinite loops. They can be good - waiting for input.\n",
    "- They can be bad - hanging, and you have to power down.\n",
    "\n",
    "- They allow you to automate repetetive actions."
   ]
  },
  {
   "cell_type": "code",
   "execution_count": 3,
   "metadata": {},
   "outputs": [
    {
     "name": "stdout",
     "output_type": "stream",
     "text": [
      "['tacos', 'cherries', 'pizza', 'egg nogg', 'burgers', 'cherry pie']\n",
      "['tacos', 'cherries', 'pizza', 'cherry pie']\n"
     ]
    }
   ],
   "source": [
    "print(foods)\n",
    "del foods[3:5]\n",
    "print(foods)"
   ]
  },
  {
   "cell_type": "code",
   "execution_count": 6,
   "metadata": {},
   "outputs": [
    {
     "name": "stdout",
     "output_type": "stream",
     "text": [
      "I love tacos!\n",
      "I love cherries!\n",
      "I love pizza!\n",
      "I love egg nogg!\n",
      "I love burgers!\n",
      "I love cherry pie!\n"
     ]
    }
   ],
   "source": [
    "# How do you use a loop?\n",
    "foods = ['tacos', 'cherries', 'pizza', 'egg nogg', 'burgers', 'cherry pie']\n",
    "\n",
    "for food in foods:\n",
    "    print(f\"I love {food}!\")"
   ]
  },
  {
   "cell_type": "code",
   "execution_count": 3,
   "metadata": {},
   "outputs": [
    {
     "name": "stdout",
     "output_type": "stream",
     "text": [
      "I love tacos!\n",
      "I love cherries!\n",
      "I love pizza!\n",
      "I love egg nogg!\n",
      "I love burgers!\n",
      "I love cherry pie!\n",
      "Those are great foods!\n"
     ]
    }
   ],
   "source": [
    "# How do you use a loop?\n",
    "foods = ['tacos', 'cherries', 'pizza', 'egg nogg', 'burgers', 'cherry pie']\n",
    "\n",
    "for food in foods:\n",
    "    print(f\"I love {food}!\")\n",
    "    \n",
    "print(\"Those are great foods!\")\n"
   ]
  },
  {
   "cell_type": "code",
   "execution_count": 1,
   "metadata": {},
   "outputs": [
    {
     "name": "stdout",
     "output_type": "stream",
     "text": [
      "['tacos', 'cherries', 'pizza', 'egg nogg', 'burgers', 'cherry pie']\n",
      "['tacos is great!', 'cherries is great!', 'pizza is great!', 'egg nogg is great!', 'burgers is great!', 'cherry pie is great!']\n"
     ]
    }
   ],
   "source": [
    "foods = ['tacos', 'cherries', 'pizza', 'egg nogg', 'burgers', 'cherry pie']\n",
    "\n",
    "great_foods = []\n",
    "for food in foods:\n",
    "    new_food = f\"{food} is great!\"\n",
    "    great_foods.append(new_food)\n",
    "\n",
    "print(foods)\n",
    "print(great_foods)"
   ]
  },
  {
   "cell_type": "markdown",
   "metadata": {},
   "source": [
    "#### Logical Errors\n",
    "\n",
    "A logical error happens when your program runs, but it doesn't do what you want it to."
   ]
  },
  {
   "cell_type": "code",
   "execution_count": 12,
   "metadata": {},
   "outputs": [
    {
     "name": "stdout",
     "output_type": "stream",
     "text": [
      "I love tacos!\n",
      "I love cherries!\n",
      "I love pizza!\n",
      "I love egg nogg!\n",
      "I love burgers!\n",
      "I love cherry pie!\n"
     ]
    }
   ],
   "source": [
    "# How do you use a loop?\n",
    "foods = ['tacos', 'cherries', 'pizza', 'egg nogg', 'burgers', 'cherry pie']\n",
    "\n",
    "for food in foods:\n",
    "    print(f\"I love {food}!\")"
   ]
  },
  {
   "cell_type": "markdown",
   "metadata": {},
   "source": [
    "Numerical Lists\n",
    "---\n",
    "\n",
    "- Many lists deal with numerical information.\n",
    "- alien scores, health values, heart rates, gps data, frequencies"
   ]
  },
  {
   "cell_type": "code",
   "execution_count": 3,
   "metadata": {},
   "outputs": [
    {
     "name": "stdout",
     "output_type": "stream",
     "text": [
      "1\n",
      "2\n",
      "3\n",
      "4\n",
      "5\n",
      "6\n",
      "7\n",
      "8\n",
      "9\n",
      "10\n",
      "11\n",
      "12\n"
     ]
    }
   ],
   "source": [
    "counting_numbers = [1, 2, 3, 4, 5, 6, 7, 8, 9, 10, 11, 12]\n",
    "for number in counting_numbers:\n",
    "    print(number)"
   ]
  },
  {
   "cell_type": "code",
   "execution_count": 11,
   "metadata": {},
   "outputs": [
    {
     "name": "stdout",
     "output_type": "stream",
     "text": [
      "[1, 2, 3, 4, 5, 6, 7, 8, 9, 10, 11, 12, 13, 14, 15]\n"
     ]
    }
   ],
   "source": [
    "# Using the range() function.\n",
    "counting_numbers = []\n",
    "for number in range(1, 16):\n",
    "    counting_numbers.append(number)\n",
    "print(counting_numbers)"
   ]
  },
  {
   "cell_type": "code",
   "execution_count": 16,
   "metadata": {},
   "outputs": [
    {
     "name": "stdout",
     "output_type": "stream",
     "text": [
      "[1, 4, 9, 16, 25, 36, 49, 64, 81, 100, 121, 144, 169, 196, 225, 256, 289, 324, 361, 400, 441, 484, 529, 576, 625, 676, 729, 784, 841, 900, 961, 1024, 1089, 1156, 1225, 1296, 1369, 1444, 1521, 1600, 1681, 1764, 1849, 1936, 2025, 2116, 2209, 2304, 2401, 2500, 2601, 2704, 2809, 2916, 3025, 3136, 3249, 3364, 3481, 3600, 3721, 3844, 3969, 4096, 4225, 4356, 4489, 4624, 4761, 4900, 5041, 5184, 5329, 5476]\n"
     ]
    }
   ],
   "source": [
    "squares = []\n",
    "for number in range(1, 75):\n",
    "    square = number * number\n",
    "    squares.append(square)\n",
    "    \n",
    "print(squares)"
   ]
  },
  {
   "cell_type": "code",
   "execution_count": 17,
   "metadata": {},
   "outputs": [
    {
     "name": "stdout",
     "output_type": "stream",
     "text": [
      "[1, 4, 9, 16, 25, 36, 49, 64, 81, 100, 121, 144, 169, 196, 225, 256, 289, 324, 361, 400, 441, 484, 529, 576, 625, 676, 729, 784, 841, 900, 961, 1024, 1089, 1156, 1225, 1296, 1369, 1444, 1521, 1600, 1681, 1764, 1849, 1936, 2025, 2116, 2209, 2304, 2401, 2500, 2601, 2704, 2809, 2916, 3025, 3136, 3249, 3364, 3481, 3600, 3721, 3844, 3969, 4096, 4225, 4356, 4489, 4624, 4761, 4900, 5041, 5184, 5329, 5476]\n"
     ]
    }
   ],
   "source": [
    "squares = []\n",
    "for number in range(1, 75):\n",
    "    squares.append(number * number)\n",
    "    \n",
    "print(squares)"
   ]
  },
  {
   "cell_type": "markdown",
   "metadata": {},
   "source": [
    "Bonus: List Comprehensions\n",
    "---\n",
    "\n",
    "- We make lists so often, people came up with a way to do it in one line."
   ]
  },
  {
   "cell_type": "code",
   "execution_count": 18,
   "metadata": {},
   "outputs": [
    {
     "name": "stdout",
     "output_type": "stream",
     "text": [
      "[1, 4, 9, 16, 25, 36, 49, 64, 81, 100, 121, 144, 169, 196, 225, 256, 289, 324, 361, 400, 441, 484, 529, 576, 625, 676, 729, 784, 841, 900, 961, 1024, 1089, 1156, 1225, 1296, 1369, 1444, 1521, 1600, 1681, 1764, 1849, 1936, 2025, 2116, 2209, 2304, 2401, 2500, 2601, 2704, 2809, 2916, 3025, 3136, 3249, 3364, 3481, 3600, 3721, 3844, 3969, 4096, 4225, 4356, 4489, 4624, 4761, 4900, 5041, 5184, 5329, 5476]\n"
     ]
    }
   ],
   "source": [
    "# Squares, in one line.\n",
    "squares = [number * number for number in range(1, 75)]\n",
    "print(squares)"
   ]
  },
  {
   "cell_type": "markdown",
   "metadata": {},
   "source": [
    "Tuples\n",
    "---\n",
    "\n",
    "- Tuples are like lists, except the values can't change."
   ]
  },
  {
   "cell_type": "code",
   "execution_count": 20,
   "metadata": {},
   "outputs": [
    {
     "ename": "TypeError",
     "evalue": "'tuple' object does not support item assignment",
     "output_type": "error",
     "traceback": [
      "\u001b[1;31m---------------------------------------------------------------------------\u001b[0m",
      "\u001b[1;31mTypeError\u001b[0m                                 Traceback (most recent call last)",
      "\u001b[1;32m<ipython-input-20-8215bd9a0195>\u001b[0m in \u001b[0;36m<module>\u001b[1;34m()\u001b[0m\n\u001b[0;32m      1\u001b[0m \u001b[0mgrades\u001b[0m \u001b[1;33m=\u001b[0m \u001b[1;33m(\u001b[0m\u001b[1;34m'A'\u001b[0m\u001b[1;33m,\u001b[0m \u001b[1;34m'B'\u001b[0m\u001b[1;33m,\u001b[0m \u001b[1;34m'C'\u001b[0m\u001b[1;33m,\u001b[0m \u001b[1;34m'D'\u001b[0m\u001b[1;33m,\u001b[0m \u001b[1;34m'F'\u001b[0m\u001b[1;33m)\u001b[0m\u001b[1;33m\u001b[0m\u001b[0m\n\u001b[0;32m      2\u001b[0m \u001b[1;33m\u001b[0m\u001b[0m\n\u001b[1;32m----> 3\u001b[1;33m \u001b[0mgrades\u001b[0m\u001b[1;33m[\u001b[0m\u001b[1;36m2\u001b[0m\u001b[1;33m]\u001b[0m \u001b[1;33m=\u001b[0m \u001b[1;34m'ha ha i own your school'\u001b[0m\u001b[1;33m\u001b[0m\u001b[0m\n\u001b[0m",
      "\u001b[1;31mTypeError\u001b[0m: 'tuple' object does not support item assignment"
     ]
    }
   ],
   "source": [
    "grades = ('A', 'B', 'C', 'D', 'F')\n",
    "\n",
    "grades[2] = 'ha ha i own your school'"
   ]
  }
 ],
 "metadata": {
  "kernelspec": {
   "display_name": "Python 3",
   "language": "python",
   "name": "python3"
  },
  "language_info": {
   "codemirror_mode": {
    "name": "ipython",
    "version": 3
   },
   "file_extension": ".py",
   "mimetype": "text/x-python",
   "name": "python",
   "nbconvert_exporter": "python",
   "pygments_lexer": "ipython3",
   "version": "3.6.1"
  }
 },
 "nbformat": 4,
 "nbformat_minor": 2
}
