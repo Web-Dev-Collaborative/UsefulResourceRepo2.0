{
 "cells": [
  {
   "cell_type": "markdown",
   "metadata": {},
   "source": [
    "Functions\n",
    "===\n",
    "\n",
    "A function is a named block of code. You can call it as many times as you want.\n",
    "\n",
    "You can use other people's functions."
   ]
  },
  {
   "cell_type": "code",
   "execution_count": 3,
   "metadata": {},
   "outputs": [
    {
     "name": "stdout",
     "output_type": "stream",
     "text": [
      "Hello!\n"
     ]
    }
   ],
   "source": [
    "# A simple example.\n",
    "\n",
    "def greeter():\n",
    "    print(\"Hello!\")\n",
    "    \n",
    "greeter()"
   ]
  },
  {
   "cell_type": "markdown",
   "metadata": {},
   "source": [
    "Arguments\n",
    "---\n",
    "\n",
    "An argument is a piece of information that you send to a function."
   ]
  },
  {
   "cell_type": "code",
   "execution_count": 8,
   "metadata": {},
   "outputs": [
    {
     "name": "stdout",
     "output_type": "stream",
     "text": [
      "Hello philip!\n"
     ]
    }
   ],
   "source": [
    "# Example, with one argument.\n",
    "\n",
    "def greet_person(name):\n",
    "    print(f\"Hello {name}!\")\n",
    "    \n",
    "greet_person('philip')"
   ]
  },
  {
   "cell_type": "code",
   "execution_count": 9,
   "metadata": {},
   "outputs": [
    {
     "name": "stdout",
     "output_type": "stream",
     "text": [
      "Hello eric!\n",
      "Hello evan!\n",
      "Hello devin!\n",
      "Hello philip!\n",
      "Hello barack obama!\n",
      "Hello abraham!\n",
      "Hello psalm!\n"
     ]
    }
   ],
   "source": [
    "def greet_person(name):\n",
    "    print(f\"Hello {name}!\")\n",
    "    \n",
    "names = ['eric', 'evan', 'devin', 'philip', 'barack obama', 'abraham', 'psalm']\n",
    "\n",
    "for name in names:\n",
    "    greet_person(name)"
   ]
  },
  {
   "cell_type": "markdown",
   "metadata": {},
   "source": [
    "A fun example\n",
    "---"
   ]
  },
  {
   "cell_type": "code",
   "execution_count": null,
   "metadata": {
    "collapsed": true
   },
   "outputs": [],
   "source": [
    "# Text to speech.\n",
    "from gtts import gTTS\n",
    "import os\n",
    "tts = gTTS(text='Good morning, gandhi.', lang='en')\n",
    "tts.save(\"hello.mp3\")\n",
    "os.system(\"start hello.mp3\")"
   ]
  },
  {
   "cell_type": "code",
   "execution_count": 11,
   "metadata": {
    "collapsed": true
   },
   "outputs": [],
   "source": [
    "from gtts import gTTS\n",
    "import os\n",
    "\n",
    "def say_message(message):\n",
    "    tts = gTTS(text=message, lang='en')\n",
    "    tts.save(\"message.mp3\")\n",
    "    os.system(\"start message.mp3\")\n",
    "\n",
    "say_message('oink oink!')"
   ]
  },
  {
   "cell_type": "code",
   "execution_count": null,
   "metadata": {
    "collapsed": true
   },
   "outputs": [],
   "source": [
    "names = ['eric', 'evan', 'devin', 'philip', 'barack obama', 'abraham', 'psalm']\n",
    "\n",
    "for name in names:\n",
    "    say_message(f\"Hello, {name}!\")"
   ]
  },
  {
   "cell_type": "markdown",
   "metadata": {},
   "source": [
    "Returning values\n",
    "---\n",
    "\n",
    "You can write a function that does a bunch of work, and then returns something to the line that called the function:"
   ]
  },
  {
   "cell_type": "code",
   "execution_count": 1,
   "metadata": {},
   "outputs": [
    {
     "name": "stdout",
     "output_type": "stream",
     "text": [
      "alex honnold\n"
     ]
    }
   ],
   "source": [
    "def get_full_name(f_name, l_name):\n",
    "    \"\"\"Return a full name.\"\"\"\n",
    "    full_name = f\"{f_name} {l_name}\"\n",
    "    return full_name\n",
    "\n",
    "full_name = get_full_name('alex', 'honnold')\n",
    "print(full_name)"
   ]
  }
 ],
 "metadata": {
  "kernelspec": {
   "display_name": "Python 3",
   "language": "python",
   "name": "python3"
  },
  "language_info": {
   "codemirror_mode": {
    "name": "ipython",
    "version": 3
   },
   "file_extension": ".py",
   "mimetype": "text/x-python",
   "name": "python",
   "nbconvert_exporter": "python",
   "pygments_lexer": "ipython3",
   "version": "3.6.1"
  }
 },
 "nbformat": 4,
 "nbformat_minor": 2
}
